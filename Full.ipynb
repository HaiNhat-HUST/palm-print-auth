{
 "cells": [
  {
   "cell_type": "code",
   "execution_count": 6,
   "metadata": {},
   "outputs": [],
   "source": [
    "import math\n",
    "from sklearn import neighbors\n",
    "import os\n",
    "import pickle\n",
    "import cv2\n",
    "import gabor\n",
    "from tqdm import tqdm\n",
    "import numpy as np\n",
    "from sklearn.svm import SVC\n",
    "from sklearn.ensemble import RandomForestClassifier"
   ]
  },
  {
   "cell_type": "code",
   "execution_count": 15,
   "metadata": {},
   "outputs": [],
   "source": [
    "def train_rf(train_dir, model_save_path=None):\n",
    "    X = []\n",
    "    y = []\n",
    "    \n",
    "    for class_dir in tqdm(os.listdir(train_dir)):\n",
    "        for img_path in os.listdir(train_dir + \"/\" + class_dir):\n",
    "            # image = cv2.imread(train_dir + \"/\" + class_dir + \"/\" + img_path)\n",
    "            image = train_dir + \"/\" + class_dir + \"/\" + img_path\n",
    "            if \"_l_\" in img_path:\n",
    "                H = gabor.process(image, \"l\")\n",
    "            else: \n",
    "                H = gabor.process(image, \"r\")\n",
    "            \n",
    "            # Add face encoding for current image to training set\n",
    "            X.append(H)\n",
    "            y.append(class_dir)\n",
    "    \n",
    "    X = np.array(X)\n",
    "    \n",
    "    rf_clf = RandomForestClassifier(n_estimators=150, n_jobs=-1, random_state=42)\n",
    "\n",
    "    rf_clf.fit(X, y)\n",
    "    \n",
    "    if model_save_path is not None:\n",
    "        with open(model_save_path, 'wb') as f:\n",
    "            pickle.dump(rf_clf, f)\n",
    "\n",
    "    return rf_clf"
   ]
  },
  {
   "cell_type": "code",
   "execution_count": 16,
   "metadata": {},
   "outputs": [],
   "source": [
    "def train_svm(train_dir, model_save_path=None):\n",
    "    X = []\n",
    "    y = []\n",
    "    \n",
    "    for class_dir in tqdm(os.listdir(train_dir)):\n",
    "\n",
    "        for img_path in os.listdir(train_dir + \"/\" + class_dir):\n",
    "            # image = cv2.imread(train_dir + \"/\" + class_dir + \"/\" + img_path)\n",
    "            image = train_dir + \"/\" + class_dir + \"/\" + img_path\n",
    "            if \"_l_\" in img_path:\n",
    "                H = gabor.process(image, \"l\")\n",
    "            else: \n",
    "                H = gabor.process(image, \"r\")\n",
    "            \n",
    "            # Add face encoding for current image to training set\n",
    "            X.append(H)\n",
    "            y.append(class_dir)\n",
    "    \n",
    "    X = np.array(X)\n",
    "\n",
    "    svm_clf = SVC(kernel='linear', probability=True)\n",
    "    svm_clf.fit(X, y)\n",
    "    \n",
    "    if model_save_path is not None:\n",
    "        with open(model_save_path, 'wb') as f:\n",
    "            pickle.dump(svm_clf, f)\n",
    "    \n",
    "    return svm_clf"
   ]
  },
  {
   "cell_type": "code",
   "execution_count": 17,
   "metadata": {},
   "outputs": [],
   "source": [
    "def train_knn(train_dir, model_save_path=None,  n_neighbors=None, knn_algo='ball_tree', verbose=False):\n",
    "    X = []\n",
    "    y = []\n",
    "    \n",
    "    for class_dir in tqdm(os.listdir(train_dir)):\n",
    "\n",
    "        for img_path in os.listdir(train_dir + \"/\" + class_dir):\n",
    "            image = train_dir + \"/\" + class_dir + \"/\" + img_path\n",
    "            if \"_l_\" in img_path:\n",
    "                H = gabor.process(image, \"l\")\n",
    "            else: \n",
    "                H = gabor.process(image, \"r\")\n",
    "            \n",
    "            X.append(H)\n",
    "            y.append(class_dir)\n",
    "            \n",
    "    if n_neighbors is None:\n",
    "        n_neighbors = int(round(math.sqrt(len(X))))\n",
    "        if verbose:\n",
    "            print(\"Chose n_neighbors automatically:\", n_neighbors)\n",
    "        \n",
    "    X = np.array(X)\n",
    "\n",
    "    knn_clf = neighbors.KNeighborsClassifier(n_neighbors=n_neighbors, algorithm=knn_algo, weights='distance')\n",
    "    knn_clf.fit(X, y)\n",
    "    \n",
    "    if model_save_path is not None:\n",
    "        with open(model_save_path, 'wb') as f:\n",
    "            pickle.dump(knn_clf, f)\n",
    "    \n",
    "    return knn_clf"
   ]
  },
  {
   "cell_type": "code",
   "execution_count": 18,
   "metadata": {},
   "outputs": [],
   "source": [
    "def predict(X_img_path, clf=None, model_path=None):\n",
    "    if clf is None:\n",
    "        with open(model_path, 'rb') as f:\n",
    "            clf = pickle.load(f)\n",
    "            \n",
    "    faces_encodings = gabor.process(X_img_path)\n",
    "\n",
    "    # print(faces_encodings.shape)\n",
    "    faces_encodings = np.array(faces_encodings)\n",
    "    faces_encodings = faces_encodings.reshape(1, -1)\n",
    "\n",
    "    # print(svm_clf.predict(faces_encodings))\n",
    "    \n",
    "    return clf.predict(faces_encodings)"
   ]
  },
  {
   "cell_type": "code",
   "execution_count": 19,
   "metadata": {},
   "outputs": [],
   "source": [
    "def predict(X_img_path, model=None, model_path=None):\n",
    "    if model is None:\n",
    "        if model_path is None:\n",
    "            raise ValueError(\"Either a preloaded model or a model path must be provided.\")\n",
    "        with open(model_path, 'rb') as f:\n",
    "            model = pickle.load(f)\n",
    "\n",
    "    # Process the image to extract features (assuming Gabor feature extraction)\n",
    "    faces_encodings = gabor.process(X_img_path)\n",
    "\n",
    "    # Ensure the features are in the correct shape for prediction\n",
    "    faces_encodings = np.array(faces_encodings)\n",
    "    faces_encodings = faces_encodings.reshape(1, -1)\n",
    "    \n",
    "    # Return the predictions from the model\n",
    "    return model.predict(faces_encodings)\n"
   ]
  },
  {
   "cell_type": "code",
   "execution_count": 20,
   "metadata": {},
   "outputs": [
    {
     "name": "stdout",
     "output_type": "stream",
     "text": [
      "Training random forest...\n"
     ]
    },
    {
     "name": "stderr",
     "output_type": "stream",
     "text": [
      "100%|██████████| 312/312 [02:36<00:00,  1.99it/s]\n"
     ]
    },
    {
     "ename": "ValueError",
     "evalue": "setting an array element with a sequence. The requested array has an inhomogeneous shape after 2 dimensions. The detected shape was (4883, 2) + inhomogeneous part.",
     "output_type": "error",
     "traceback": [
      "\u001b[1;31m---------------------------------------------------------------------------\u001b[0m",
      "\u001b[1;31mValueError\u001b[0m                                Traceback (most recent call last)",
      "Cell \u001b[1;32mIn[20], line 2\u001b[0m\n\u001b[0;32m      1\u001b[0m \u001b[38;5;28mprint\u001b[39m(\u001b[38;5;124m\"\u001b[39m\u001b[38;5;124mTraining random forest...\u001b[39m\u001b[38;5;124m\"\u001b[39m)\n\u001b[1;32m----> 2\u001b[0m classifier \u001b[38;5;241m=\u001b[39m \u001b[43mtrain_rf\u001b[49m\u001b[43m(\u001b[49m\u001b[38;5;124;43m\"\u001b[39;49m\u001b[38;5;124;43m./train_ver2\u001b[39;49m\u001b[38;5;124;43m\"\u001b[39;49m\u001b[43m,\u001b[49m\u001b[43m \u001b[49m\u001b[43mmodel_save_path\u001b[49m\u001b[38;5;241;43m=\u001b[39;49m\u001b[38;5;124;43m\"\u001b[39;49m\u001b[38;5;124;43mtrained_rf_model.clf\u001b[39;49m\u001b[38;5;124;43m\"\u001b[39;49m\u001b[43m)\u001b[49m\n\u001b[0;32m      3\u001b[0m \u001b[38;5;28mprint\u001b[39m(\u001b[38;5;124m\"\u001b[39m\u001b[38;5;124mTraining complete!\u001b[39m\u001b[38;5;124m\"\u001b[39m)\n",
      "Cell \u001b[1;32mIn[15], line 18\u001b[0m, in \u001b[0;36mtrain_rf\u001b[1;34m(train_dir, model_save_path)\u001b[0m\n\u001b[0;32m     15\u001b[0m         X\u001b[38;5;241m.\u001b[39mappend(H)\n\u001b[0;32m     16\u001b[0m         y\u001b[38;5;241m.\u001b[39mappend(class_dir)\n\u001b[1;32m---> 18\u001b[0m X \u001b[38;5;241m=\u001b[39m \u001b[43mnp\u001b[49m\u001b[38;5;241;43m.\u001b[39;49m\u001b[43marray\u001b[49m\u001b[43m(\u001b[49m\u001b[43mX\u001b[49m\u001b[43m)\u001b[49m\n\u001b[0;32m     20\u001b[0m rf_clf \u001b[38;5;241m=\u001b[39m RandomForestClassifier(n_estimators\u001b[38;5;241m=\u001b[39m\u001b[38;5;241m150\u001b[39m, n_jobs\u001b[38;5;241m=\u001b[39m\u001b[38;5;241m-\u001b[39m\u001b[38;5;241m1\u001b[39m, random_state\u001b[38;5;241m=\u001b[39m\u001b[38;5;241m42\u001b[39m)\n\u001b[0;32m     22\u001b[0m rf_clf\u001b[38;5;241m.\u001b[39mfit(X, y)\n",
      "\u001b[1;31mValueError\u001b[0m: setting an array element with a sequence. The requested array has an inhomogeneous shape after 2 dimensions. The detected shape was (4883, 2) + inhomogeneous part."
     ]
    }
   ],
   "source": [
    "print(\"Training random forest...\")\n",
    "classifier = train_rf(\"./train_ver2\", model_save_path=\"trained_rf_model.clf\")\n",
    "print(\"Training complete!\")"
   ]
  },
  {
   "cell_type": "code",
   "execution_count": null,
   "metadata": {},
   "outputs": [],
   "source": [
    "# print(\"Training SVM...\")\n",
    "# classifier = train_svm(\"./train_ver2\", model_save_path=\"trained_svm_model.clf\")\n",
    "# print(\"Training complete!\")"
   ]
  },
  {
   "cell_type": "code",
   "execution_count": 39,
   "metadata": {},
   "outputs": [
    {
     "name": "stdout",
     "output_type": "stream",
     "text": [
      "Training KNN...\n"
     ]
    },
    {
     "name": "stderr",
     "output_type": "stream",
     "text": [
      "100%|██████████| 312/312 [02:38<00:00,  1.97it/s]\n"
     ]
    },
    {
     "name": "stdout",
     "output_type": "stream",
     "text": [
      "Training complete!\n"
     ]
    }
   ],
   "source": [
    "print(\"Training KNN...\")\n",
    "classifier = train_knn(\"./train_ver2\", model_save_path=\"trained_knn_model.clf\", n_neighbors=1)\n",
    "print(\"Training complete!\")"
   ]
  },
  {
   "cell_type": "code",
   "execution_count": 40,
   "metadata": {},
   "outputs": [
    {
     "name": "stdout",
     "output_type": "stream",
     "text": [
      "619\n"
     ]
    },
    {
     "name": "stderr",
     "output_type": "stream",
     "text": [
      "100%|██████████| 619/619 [11:48<00:00,  1.14s/it]"
     ]
    },
    {
     "name": "stdout",
     "output_type": "stream",
     "text": [
      "Accuracy KNN: 0.8949919224555735\n",
      "Accuracy RF: 0.9030694668820679\n",
      "Accuracy SVM: 0\n",
      "\n"
     ]
    },
    {
     "name": "stderr",
     "output_type": "stream",
     "text": [
      "\n"
     ]
    }
   ],
   "source": [
    "correct_prediction_rf = 0\n",
    "# correct_prediction_svm = 0\n",
    "correct_prediction_knn = 0\n",
    "print(len(os.listdir('./test_ver2')))\n",
    "for image_dir in tqdm(os.listdir('./test_ver2')):\n",
    "    full_file_path = './test_ver2/' + image_dir\n",
    "    \n",
    "    predictions_rf = predict(full_file_path, model_path=\"trained_rf_model.clf\")\n",
    "    # predictions_svm = predict(full_file_path, model_path=\"trained_svm_model.clf\")\n",
    "    predictions_knn = predict(full_file_path, model_path=\"trained_knn_model.clf\")\n",
    "    \n",
    "    y_test_rf = str(predictions_rf[0])\n",
    "    y_pred_rf = image_dir[:4]\n",
    "    if y_test_rf == y_pred_rf:\n",
    "        correct_prediction_rf += 1\n",
    "    # else:\n",
    "    #     print(\"Looking for palm print in {}\".format(image_dir))\n",
    "    #     print(\"Real prediction: \", predictions_rf)\n",
    "\n",
    "    # y_test_svm = str(predictions_svm[0])\n",
    "    # y_pred_svm = image_dir[:4]\n",
    "    # if y_test_svm == y_pred_svm:\n",
    "    #     correct_prediction_svm += 1\n",
    "    # else:\n",
    "    #     print(\"Looking for palm print in {}\".format(image_dir))\n",
    "    #     print(\"Real prediction: \", predictions_svm)\n",
    "\n",
    "    y_test_knn = str(predictions_knn[0])\n",
    "    y_pred_knn = image_dir[:4]\n",
    "    if y_test_knn == y_pred_knn:\n",
    "        correct_prediction_knn += 1\n",
    "    # else:\n",
    "    #     print(\"Looking for palm print in {}\".format(image_dir))\n",
    "    #     print(\"Real prediction: \", predictions_knn)\n",
    "    \n",
    "    \n",
    "accuracy_rf = correct_prediction_rf / len(os.listdir('./test_ver2'))\n",
    "# accuracy_svm = correct_prediction_svm / len(os.listdir('./test_ver2_1'))\n",
    "accuracy_knn = correct_prediction_knn / len(os.listdir('./test_ver2'))\n",
    "print(f\"Accuracy KNN: {accuracy_knn}\\nAccuracy RF: {accuracy_rf}\\nAccuracy SVM: 0\\n\")"
   ]
  }
 ],
 "metadata": {
  "kernelspec": {
   "display_name": "Python 3",
   "language": "python",
   "name": "python3"
  },
  "language_info": {
   "codemirror_mode": {
    "name": "ipython",
    "version": 3
   },
   "file_extension": ".py",
   "mimetype": "text/x-python",
   "name": "python",
   "nbconvert_exporter": "python",
   "pygments_lexer": "ipython3",
   "version": "3.12.3"
  }
 },
 "nbformat": 4,
 "nbformat_minor": 2
}
