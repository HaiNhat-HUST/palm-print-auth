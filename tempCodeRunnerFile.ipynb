import pickle
# def _save(path, obj):
#     with open(path, 'wb') as fn:
#         pickle.dump(obj, fn)


# _save('data.pkl',data)