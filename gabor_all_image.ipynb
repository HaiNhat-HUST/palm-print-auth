{
 "cells": [
  {
   "cell_type": "markdown",
   "metadata": {},
   "source": [
    "# Feature extraction with gabor filter and laplacian filter"
   ]
  },
  {
   "cell_type": "code",
   "execution_count": 11,
   "metadata": {},
   "outputs": [],
   "source": [
    "# import libaries\n",
    "import numpy as np\n",
    "from matplotlib.pyplot import imread\n",
    "import matplotlib.pyplot as plt\n",
    "from skimage import morphology\n",
    "import numpy as np\n",
    "import glob\n",
    "import os\n",
    "import cv2\n",
    "import os\n",
    "from PIL import Image\n",
    "from skimage import feature\n",
    "from skimage import exposure\n",
    "import csv"
   ]
  },
  {
   "cell_type": "markdown",
   "metadata": {},
   "source": [
    "## Generate gabor filter"
   ]
  },
  {
   "cell_type": "code",
   "execution_count": null,
   "metadata": {},
   "outputs": [],
   "source": [
    "class Gabor():\n",
    "    def __init__(self, R, C, n_orientation, scale):\n",
    "        self.R = R\n",
    "        self.C = C\n",
    "        self.n_orientation = n_orientation\n",
    "        self.scale = scale\n",
    "        self.orientation = np.array([ u * np.pi / n_orientation for u in range (1, n_orientation + 1)])\n",
    "        self.gabor_filters_sets = [gabor_wavelet(R, C, u, scale, n_orientation) for u in range(1, n_orientation + 1)]\n",
    "\n",
    "    # filter image through gabor filter\n",
    "    def filtering(self, img):\n",
    "        graphs = np.array([cv2.filter2D(img, -1, np.real(gw)) for gw in self.gabor_filters_sets])\n",
    "        return graphs\n",
    "    \n",
    "    def plot_filters(self, n_scale):\n",
    "        gabor_filters = []\n",
    "        fig = plt.figure()\n",
    "        for v in range (1, n_scale + 1):\n",
    "            for u in range(1, self.n_orientation + 1):\n",
    "                gw = gabor_wavelet(self.R, self.C, u, v , self.n_orientation)\n",
    "                fig.add_subplot(n_scale, self.n_orientation, self.n_orientation * (v- 1) + u)\n",
    "                plt.imshow(np.real(gw), cmap='gray')\n",
    "        plt.show()\n",
    "\n",
    "    \n",
    "\n",
    "def gabor_wavelet(rows, cols, orientation, scale, n_orientation):\n",
    "    kmax = np.pi / 2        # 1.5707963267948966\n",
    "    f = np.sqrt(2)          # 1.4142135623730951 \n",
    "    delt2 = (2 * np.pi) ** 2\n",
    "    k = (kmax / (f ** scale)) * np.exp(1j * orientation * np.pi / n_orientation / 2)\n",
    "    kn2 = np.abs(k) ** 2\n",
    "    gw = np.zeros((rows, cols), np.complex128)\n",
    "\n",
    "    for m in range(int(-rows / 2) + 1, int(rows / 2) + 1):\n",
    "        for n in range(int(-cols / 2) + 1, int(cols / 2) + 1):\n",
    "            t1 = np.exp(-0.5 * kn2 * (m ** 2 + n ** 2) / delt2)\n",
    "            t2 = np.exp(1j * (np.real(k) * m + np.imag(k) * n))\n",
    "            t3 = np.exp(-0.5 * delt2)\n",
    "            gw[int(m + rows / 2 - 1), int(n + cols / 2 - 1)] = (kn2 / delt2) * t1 * (t2 - t3)\n",
    "\n",
    "    return gw\n",
    "\n",
    "\n",
    "n_orientation = 6\n",
    "scale = 2\n",
    "GA = Gabor(10, 10, n_orientation, scale)\n",
    "gabor_filters = GA.gabor_filters_sets\n",
    "GA.plot_filters(3)\n"
   ]
  },
  {
   "cell_type": "markdown",
   "metadata": {},
   "source": [
    "## Laplacian Filter"
   ]
  },
  {
   "cell_type": "code",
   "execution_count": 3,
   "metadata": {},
   "outputs": [],
   "source": [
    "def Lo_pass_Gaussian_procwess(img, D0):\n",
    "    rows, cols = img.shape\n",
    "    mask = np.zeros((rows, cols))\n",
    "    Locx = np.array(list(range(cols)) * rows).reshape([rows, cols])\n",
    "    Locy = np.transpose((np.array(list(range(rows)) * cols).reshape([cols,rows])))\n",
    "    D = np.sqrt((Locx - cols / 2) ** 2 + (Locy - rows / 2 ) ** 2)\n",
    "    mask = np.exp(-D ** 2 / D0 ** 2 / 2)\n",
    "\n",
    "    f1 = np.fft.fft2(img)\n",
    "    f1shift = np.fft.fftshift(f1)\n",
    "    f1shift = f1shift * mask\n",
    "    f2shift = np.fft.ifftshift(f1shift)\n",
    "    img_new = np.fft.ifft2(f2shift)\n",
    "    img_new = np.abs(img_new)\n",
    "\n",
    "    return img_new\n",
    "\n",
    "def LOG_preprocess(img, R0 = 40 , ksize = 5):\n",
    "    AfterGaussian = np.uint8(Lo_pass_Gaussian_procwess(img, R0))\n",
    "    processed = cv2.Laplacian(AfterGaussian, -1, ksize=ksize)\n",
    "    img = cv2.equalizeHist(img)             \n",
    "    return processed"
   ]
  },
  {
   "cell_type": "markdown",
   "metadata": {},
   "source": [
    "## Process the image to extract feature\n"
   ]
  },
  {
   "cell_type": "code",
   "execution_count": 4,
   "metadata": {},
   "outputs": [],
   "source": [
    "def show_array_img(arr, process):\n",
    "    plt.figure(figsize=(12, 8))  # Đặt kích thước cửa sổ\n",
    "    for idx, element in enumerate(arr):\n",
    "        plt.subplot(3, 4, idx + 1)  # Sắp xếp ảnh trên lưới 3x4 (hoặc thay đổi tuỳ số lượng ảnh)\n",
    "        plt.imshow(element, cmap='gray')  # Hiển thị ảnh ở dạng grayscale\n",
    "        plt.title(f\"{process} {idx+1}\")  # Thêm tiêu đề cho từng ảnh\n",
    "        plt.axis('off')  # Tắt trục toạ độ\n",
    "\n",
    "    plt.tight_layout()  # Căn chỉnh lưới để không bị chồng lấn\n",
    "    plt.show()\n",
    "    \n",
    "def Gab(img):\n",
    "\n",
    "    # Laplacian process image with above function\n",
    "    img = LOG_preprocess(img)\n",
    "\n",
    "    # storing output after gabor filter\n",
    "    After_gabor = []\n",
    "\n",
    "    # Gabor process image with the first cell code above\n",
    "    for i, gw in enumerate(gabor_filters):\n",
    "        element =  cv2.filter2D(img, -1, np.real(gw))       # filter2d image với mỗi kernel là một gabor filter \n",
    "        After_gabor.append(element)\n",
    "\n",
    "\n",
    "    # show_array_img(After_gabor, \"Gabor\")\n",
    "    \n",
    "    \n",
    "    Two_value = []\n",
    "    for i, line in enumerate(After_gabor):\n",
    "        _, TW = cv2.threshold(line, 0 , 255, cv2.THRESH_BINARY | cv2.THRESH_OTSU)\n",
    "\n",
    "        kernel = np.ones((2,2), np.uint8)\n",
    "        TW = cv2.erode(TW, kernel)\n",
    "\n",
    "        Two_value.append(TW)\n",
    "\n",
    "    # show_array_img(Two_value, \"threshold\")\n",
    "\n",
    "    con = []\n",
    "\n",
    "\n",
    "    for i in Two_value:\n",
    "        conective = morphology.remove_small_objects(i > 0, min_size=40, connectivity=1)\n",
    "        con.append(conective)\n",
    "\n",
    "    line = (np.sum(con, axis = 0) / len(con))\n",
    "\n",
    "    # show_array_img(con, \"Remove small object\")\n",
    "\n",
    "\n",
    "    return line \n",
    "\n",
    "\n"
   ]
  },
  {
   "cell_type": "markdown",
   "metadata": {},
   "source": [
    "# HOG"
   ]
  },
  {
   "cell_type": "code",
   "execution_count": 5,
   "metadata": {},
   "outputs": [],
   "source": [
    "# HOG\n",
    "    \n",
    "# HOG với 9 hướng, cell có kích thước 10*10 \n",
    "def Hog(edge_img):\n",
    "    (H, hog_img) = feature.hog(edge_img, orientations=9, pixels_per_cell=(10, 10),\n",
    "                cells_per_block=(2, 2), transform_sqrt=True, block_norm=\"L1\", visualize=True)\n",
    "\n",
    "    hogImage = exposure.rescale_intensity(hog_img, out_range=(0, 255))\n",
    "    hogImage = hogImage.astype(\"uint8\")\n",
    "\n",
    "   \n",
    "    return H,hog_img"
   ]
  },
  {
   "cell_type": "markdown",
   "metadata": {},
   "source": [
    "# RUN"
   ]
  },
  {
   "cell_type": "markdown",
   "metadata": {},
   "source": [
    "## Data Folder Path"
   ]
  },
  {
   "cell_type": "code",
   "execution_count": 6,
   "metadata": {},
   "outputs": [],
   "source": [
    "path = 'roi_test'\n"
   ]
  },
  {
   "cell_type": "code",
   "execution_count": 9,
   "metadata": {},
   "outputs": [],
   "source": [
    "def process(path, visualize):\n",
    "    img = Image.open(path)\n",
    "\n",
    "    # nếu là tay trái thì lật ảnh\n",
    "    if 'l' in path:\n",
    "        img = img.transpose(Image.FLIP_LEFT_RIGHT)\n",
    "\n",
    "    img = img.resize((200,200))\n",
    "\n",
    "\n",
    "    # đưa hình ảnh về dạng np.array để có thể sử dụng thư viện cv2\n",
    "    img = np.array(img)\n",
    "    \n",
    "    ori_img = img                               # store image for visualize\n",
    "    # add the image to the figure\n",
    "    \n",
    "    # apply gaussian smotthing\n",
    "    log_img = LOG_preprocess(img)               # store image for visualize\n",
    "    \n",
    "    # apply gabor filter \n",
    "    edge_img = Gab(img)\n",
    "\n",
    "    (H, hog_img) = Hog(edge_img)\n",
    "\n",
    "    if (visualize):\n",
    "        plt.figure(figsize=(16,4))\n",
    "        plt.subplot(141)\n",
    "        plt.imshow(ori_img,cmap='gray')\n",
    "        plt.title(path)\n",
    "        plt.axis('off')\n",
    "\n",
    "        plt.subplot(142)\n",
    "        plt.imshow(log_img, cmap='gray')\n",
    "        plt.title(\"LOG\")\n",
    "        plt.axis('off')\n",
    "        \n",
    "        plt.subplot(143)\n",
    "        plt.imshow(edge_img, cmap='gray')\n",
    "        plt.axis('off')\n",
    "        plt.title('Gabor')\n",
    "\n",
    "        plt.subplot(144)\n",
    "        plt.imshow(hog_img)\n",
    "        plt.title(\"HOG\")\n",
    "        plt.axis('off')\n",
    "    return H, edge_img\n",
    "    \n",
    "    \n",
    "\n",
    "\n"
   ]
  },
  {
   "cell_type": "code",
   "execution_count": null,
   "metadata": {},
   "outputs": [
    {
     "ename": "TypeError",
     "evalue": "'int' object is not iterable",
     "output_type": "error",
     "traceback": [
      "\u001b[1;31m---------------------------------------------------------------------------\u001b[0m",
      "\u001b[1;31mTypeError\u001b[0m                                 Traceback (most recent call last)",
      "Cell \u001b[1;32mIn[10], line 18\u001b[0m\n\u001b[0;32m     15\u001b[0m item_data\u001b[38;5;241m.\u001b[39mappend(label[\u001b[38;5;241m1\u001b[39m])      \u001b[38;5;66;03m# gener ex: m\u001b[39;00m\n\u001b[0;32m     16\u001b[0m item_data\u001b[38;5;241m.\u001b[39mappend(label[\u001b[38;5;241m2\u001b[39m])      \u001b[38;5;66;03m# hand (left or right) ex: l\u001b[39;00m\n\u001b[1;32m---> 18\u001b[0m H, hog_img \u001b[38;5;241m=\u001b[39m \u001b[43mprocess\u001b[49m\u001b[43m(\u001b[49m\u001b[43mfile_path\u001b[49m\u001b[43m,\u001b[49m\u001b[38;5;28;43;01mFalse\u001b[39;49;00m\u001b[43m)\u001b[49m\n\u001b[0;32m     19\u001b[0m item_data\u001b[38;5;241m.\u001b[39mappend(H)\n\u001b[0;32m     20\u001b[0m \u001b[38;5;28mprint\u001b[39m(H\u001b[38;5;241m.\u001b[39msize)\n",
      "Cell \u001b[1;32mIn[9], line 8\u001b[0m, in \u001b[0;36mprocess\u001b[1;34m(path, visualize)\u001b[0m\n\u001b[0;32m      5\u001b[0m \u001b[38;5;28;01mif\u001b[39;00m \u001b[38;5;124m'\u001b[39m\u001b[38;5;124ml\u001b[39m\u001b[38;5;124m'\u001b[39m \u001b[38;5;129;01min\u001b[39;00m path:\n\u001b[0;32m      6\u001b[0m     img \u001b[38;5;241m=\u001b[39m img\u001b[38;5;241m.\u001b[39mtranspose(Image\u001b[38;5;241m.\u001b[39mFLIP_LEFT_RIGHT)\n\u001b[1;32m----> 8\u001b[0m img \u001b[38;5;241m=\u001b[39m \u001b[43mimg\u001b[49m\u001b[38;5;241;43m.\u001b[39;49m\u001b[43mresize\u001b[49m\u001b[43m(\u001b[49m\u001b[43m(\u001b[49m\u001b[38;5;241;43m200\u001b[39;49m\u001b[38;5;241;43m*\u001b[39;49m\u001b[38;5;241;43m200\u001b[39;49m\u001b[43m)\u001b[49m\u001b[43m)\u001b[49m\n\u001b[0;32m     11\u001b[0m \u001b[38;5;66;03m# đưa hình ảnh về dạng np.array để có thể sử dụng thư viện cv2\u001b[39;00m\n\u001b[0;32m     12\u001b[0m img \u001b[38;5;241m=\u001b[39m np\u001b[38;5;241m.\u001b[39marray(img)\n",
      "File \u001b[1;32mc:\\Users\\Lenovo\\AppData\\Local\\Programs\\Python\\Python313\\Lib\\site-packages\\PIL\\Image.py:2333\u001b[0m, in \u001b[0;36mImage.resize\u001b[1;34m(self, size, resample, box, reducing_gap)\u001b[0m\n\u001b[0;32m   2330\u001b[0m \u001b[38;5;28;01mif\u001b[39;00m box \u001b[38;5;129;01mis\u001b[39;00m \u001b[38;5;28;01mNone\u001b[39;00m:\n\u001b[0;32m   2331\u001b[0m     box \u001b[38;5;241m=\u001b[39m (\u001b[38;5;241m0\u001b[39m, \u001b[38;5;241m0\u001b[39m) \u001b[38;5;241m+\u001b[39m \u001b[38;5;28mself\u001b[39m\u001b[38;5;241m.\u001b[39msize\n\u001b[1;32m-> 2333\u001b[0m size \u001b[38;5;241m=\u001b[39m \u001b[38;5;28;43mtuple\u001b[39;49m\u001b[43m(\u001b[49m\u001b[43msize\u001b[49m\u001b[43m)\u001b[49m\n\u001b[0;32m   2334\u001b[0m \u001b[38;5;28;01mif\u001b[39;00m \u001b[38;5;28mself\u001b[39m\u001b[38;5;241m.\u001b[39msize \u001b[38;5;241m==\u001b[39m size \u001b[38;5;129;01mand\u001b[39;00m box \u001b[38;5;241m==\u001b[39m (\u001b[38;5;241m0\u001b[39m, \u001b[38;5;241m0\u001b[39m) \u001b[38;5;241m+\u001b[39m \u001b[38;5;28mself\u001b[39m\u001b[38;5;241m.\u001b[39msize:\n\u001b[0;32m   2335\u001b[0m     \u001b[38;5;28;01mreturn\u001b[39;00m \u001b[38;5;28mself\u001b[39m\u001b[38;5;241m.\u001b[39mcopy()\n",
      "\u001b[1;31mTypeError\u001b[0m: 'int' object is not iterable"
     ]
    }
   ],
   "source": [
    "data = []\n",
    "\n",
    "for folder in os.listdir(path):\n",
    "    for file_name in os.listdir(path + '/' + folder):\n",
    "        file_path = os.path.join(path,folder,file_name)\n",
    "\n",
    "\n",
    "        item_data = []\n",
    "        # extract label from file path\n",
    "        label = file_name.split('_')\n",
    "\n",
    "        item_data.append(label[0])      # people ex: 0001\n",
    "        item_data.append(label[1])      # gener ex: m\n",
    "        item_data.append(label[2])      # hand (left or right) ex: l\n",
    "\n",
    "        H, hog_img = process(file_path,False)\n",
    "        item_data.append(H)\n",
    "        print(H.size)\n",
    "        \n",
    "        # code for saving image\n",
    "        # saved_folder='gabor'\n",
    "        # save_folder_path = os.path.join(saved_folder, folder)\n",
    "        # save_path = os.path.join(saved_folder,folder, file_name)\n",
    "        # if not os.path.exists(save_folder_path):\n",
    "        #     os.makedirs(save_folder_path)\n",
    "        # hogImage = exposure.rescale_intensity(hog_img, out_range=(0, 255))\n",
    "        # hogImage = hogImage.astype(\"uint8\")\n",
    "        # cv2.imwrite(save_path, hogImage)\n",
    "\n",
    "\n",
    "\n"
   ]
  },
  {
   "cell_type": "code",
   "execution_count": 39,
   "metadata": {},
   "outputs": [],
   "source": [
    "\n",
    "# file_name = \"data.csv\"\n",
    "\n",
    "# # Ghi dữ liệu vào file CSV\n",
    "# with open(file_name, mode=\"w\", encoding=\"utf-8\", newline=\"\") as file:\n",
    "#     writer = csv.writer(file)\n",
    "#     writer.writerows(data)"
   ]
  },
  {
   "cell_type": "code",
   "execution_count": 40,
   "metadata": {},
   "outputs": [],
   "source": [
    "# import pickle\n",
    "# def _save(path, obj):\n",
    "#     with open(path, 'wb') as fn:\n",
    "#         pickle.dump(obj, fn)\n",
    "\n",
    "\n",
    "# _save('data.pkl',data)\n"
   ]
  }
 ],
 "metadata": {
  "kernelspec": {
   "display_name": "Python 3",
   "language": "python",
   "name": "python3"
  },
  "language_info": {
   "codemirror_mode": {
    "name": "ipython",
    "version": 3
   },
   "file_extension": ".py",
   "mimetype": "text/x-python",
   "name": "python",
   "nbconvert_exporter": "python",
   "pygments_lexer": "ipython3",
   "version": "3.13.0"
  }
 },
 "nbformat": 4,
 "nbformat_minor": 2
}
